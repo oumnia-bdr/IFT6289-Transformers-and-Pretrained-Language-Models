{
 "cells": [
  {
   "cell_type": "markdown",
   "metadata": {
    "id": "HkOk1l_44ERM",
    "pycharm": {
     "name": "#%% md\n"
    }
   },
   "source": [
    "# IFT6289-A-H25 Assignment 2"
   ]
  },
  {
   "cell_type": "code",
   "execution_count": null,
   "metadata": {
    "id": "VZZ4-iY8-X1-",
    "pycharm": {
     "name": "#%%\n"
    }
   },
   "outputs": [],
   "source": [
    "from google.colab import drive\n",
    "\n",
    "drive.mount('/content/drive')"
   ]
  },
  {
   "cell_type": "code",
   "execution_count": null,
   "metadata": {
    "id": "ravw0f2lDupz",
    "pycharm": {
     "name": "#%%\n"
    }
   },
   "outputs": [],
   "source": [
    "# go into the a3 folder\n",
    "% cd\n",
    "!ls"
   ]
  },
  {
   "cell_type": "code",
   "execution_count": 1,
   "metadata": {
    "id": "5mmqSh3szedt",
    "pycharm": {
     "name": "#%%\n"
    }
   },
   "outputs": [],
   "source": [
    "#! pip install transformers"
   ]
  },
  {
   "cell_type": "code",
   "execution_count": null,
   "metadata": {},
   "outputs": [],
   "source": [
    "#!pip install torch torchvision torchaudio --index-url https://download.pytorch.org/whl/cu121\n",
    "#!pip install threadpoolctl"
   ]
  },
  {
   "cell_type": "code",
   "execution_count": 1,
   "metadata": {},
   "outputs": [
    {
     "name": "stdout",
     "output_type": "stream",
     "text": [
      "True\n",
      "2.5.1+cu121\n"
     ]
    }
   ],
   "source": [
    "import torch\n",
    "print(torch.cuda.is_available())\n",
    "print(torch.__version__)\n"
   ]
  },
  {
   "cell_type": "markdown",
   "metadata": {
    "id": "olVpflosFGpf",
    "pycharm": {
     "name": "#%% md\n"
    }
   },
   "source": [
    "# Loading dataset SST-2"
   ]
  },
  {
   "cell_type": "code",
   "execution_count": 2,
   "metadata": {
    "id": "7zIdamm9FJWd",
    "pycharm": {
     "name": "#%%\n"
    }
   },
   "outputs": [],
   "source": [
    "import pandas as pd\n",
    "import os\n",
    "\n",
    "data_path = \"./data/\"\n",
    "train_df = pd.read_csv(os.path.join(data_path, \"train.tsv\"), sep='\\t', header=None, names=['similarity', 's1'])\n",
    "dev_df = pd.read_csv(os.path.join(data_path, \"dev.tsv\"), sep='\\t', header=None, names=['similarity', 's1'])\n",
    "test_df = pd.read_csv(os.path.join(data_path, \"test.tsv\"), sep='\\t', header=None, names=['similarity', 's1'])"
   ]
  },
  {
   "cell_type": "markdown",
   "metadata": {
    "collapsed": false,
    "pycharm": {
     "name": "#%% md\n"
    }
   },
   "source": []
  },
  {
   "cell_type": "markdown",
   "metadata": {
    "id": "hPPfRpmnfjWo",
    "pycharm": {
     "name": "#%% md\n"
    }
   },
   "source": [
    "# Fine-tuning BERT"
   ]
  },
  {
   "cell_type": "code",
   "execution_count": 3,
   "metadata": {
    "id": "mGFbny5-eN7W",
    "pycharm": {
     "is_executing": true,
     "name": "#%%\n"
    }
   },
   "outputs": [
    {
     "name": "stderr",
     "output_type": "stream",
     "text": [
      "Some weights of BertForSequenceClassification were not initialized from the model checkpoint at bert-base-uncased and are newly initialized: ['classifier.bias', 'classifier.weight']\n",
      "You should probably TRAIN this model on a down-stream task to be able to use it for predictions and inference.\n"
     ]
    },
    {
     "name": "stdout",
     "output_type": "stream",
     "text": [
      "====================  Preparing for training  ====================\n",
      "\t* Loading training data...\n",
      "\t* Loading validation data...\n",
      "\t* Loading test data...\n",
      "\t* Building model...\n",
      "\n",
      "* Validation loss before training: 0.7315, accuracy: 51.1468%, auc: 0.5066\n",
      "\n",
      " ==================== Training bert model on device: cuda ====================\n",
      "* Training epoch 1:\n"
     ]
    },
    {
     "name": "stderr",
     "output_type": "stream",
     "text": [
      "Avg. batch proc. time: 0.0788s, loss: 0.4458: 100%|██████████| 217/217 [00:57<00:00,  3.77it/s]\n"
     ]
    },
    {
     "name": "stdout",
     "output_type": "stream",
     "text": [
      "-> Training time: 57.5402s, loss = 0.4458, accuracy: 77.0665%\n",
      "* Validation for epoch 1:\n",
      "-> Valid. time: 2.1501s, loss: 0.2337, accuracy: 90.8257%, auc: 0.9672\n",
      "save model succesfully!\n",
      "\n",
      "* Training epoch 2:\n"
     ]
    },
    {
     "name": "stderr",
     "output_type": "stream",
     "text": [
      "Avg. batch proc. time: 0.0713s, loss: 0.1845: 100%|██████████| 217/217 [00:58<00:00,  3.68it/s]\n"
     ]
    },
    {
     "name": "stdout",
     "output_type": "stream",
     "text": [
      "-> Training time: 58.9770s, loss = 0.1845, accuracy: 93.1503%\n",
      "* Validation for epoch 2:\n",
      "-> Valid. time: 2.1263s, loss: 0.2939, accuracy: 91.0550%, auc: 0.9693\n",
      "save model succesfully!\n",
      "\n",
      "* Training epoch 3:\n"
     ]
    },
    {
     "name": "stderr",
     "output_type": "stream",
     "text": [
      "Avg. batch proc. time: 0.0702s, loss: 0.0690: 100%|██████████| 217/217 [00:58<00:00,  3.71it/s]\n"
     ]
    },
    {
     "name": "stdout",
     "output_type": "stream",
     "text": [
      "-> Training time: 58.5052s, loss = 0.0690, accuracy: 97.7601%\n",
      "* Validation for epoch 3:\n",
      "-> Valid. time: 2.0747s, loss: 0.3936, accuracy: 89.7936%, auc: 0.9643\n",
      "-> Early stopping: patience limit reached, stopping...\n"
     ]
    },
    {
     "name": "stderr",
     "output_type": "stream",
     "text": [
      "c:\\Users\\oumni\\Desktop\\DIRO-COURS\\HIVER 2025\\NLP with Deep Learning\\programming assignements\\IFT6289_A_H25_A2\\starter code\\Part 2\\trainer.py:186: FutureWarning: You are using `torch.load` with `weights_only=False` (the current default value), which uses the default pickle module implicitly. It is possible to construct malicious pickle data which will execute arbitrary code during unpickling (See https://github.com/pytorch/pytorch/blob/main/SECURITY.md#untrusted-models for more details). In a future release, the default value for `weights_only` will be flipped to `True`. This limits the functions that could be executed during unpickling. Arbitrary objects will no longer be allowed to be loaded via this mode unless they are explicitly allowlisted by the user via `torch.serialization.add_safe_globals`. We recommend you start setting `weights_only=True` for any use case where you don't have full control of the loaded file. Please open an issue on GitHub for any issues related to this experimental feature.\n",
      "  best_model = torch.load(os.path.join(target_dir, 'best.pth.tar'))\n"
     ]
    },
    {
     "name": "stdout",
     "output_type": "stream",
     "text": [
      "* Test for the best model from epoch 2:\n",
      "Test accuracy: 0.9132\n",
      "\n",
      "Accuracy: 91.3%\n",
      "Precision: 91.5%\n",
      "Recall: 91.3%\n",
      "F1: 91.3%\n",
      "classification_report:\n",
      "\n",
      "              precision    recall  f1-score   support\n",
      "\n",
      "     class_0      0.946     0.877     0.910       912\n",
      "     class_1      0.885     0.949     0.916       909\n",
      "\n",
      "    accuracy                          0.913      1821\n",
      "   macro avg      0.915     0.913     0.913      1821\n",
      "weighted avg      0.915     0.913     0.913      1821\n",
      "\n"
     ]
    }
   ],
   "source": [
    "from trainer import model_train_validate_test\n",
    "import pandas as pd\n",
    "from utils import Metric\n",
    "import os\n",
    "\n",
    "target_dir = \"./output/Bert/finetune\"\n",
    "\n",
    "model_train_validate_test(train_df, dev_df, test_df, target_dir,\n",
    "                          max_seq_len=50,\n",
    "                          epochs=3,\n",
    "                          batch_size=32,\n",
    "                          lr=5e-5,\n",
    "                          prefix_len=50,\n",
    "                          scheduler_patience=1,\n",
    "                          early_stopping_patience=1,\n",
    "                          max_grad_norm=10.0,\n",
    "                          if_save_model=True,\n",
    "                          checkpoint=None,\n",
    "                          mode='finetune')\n",
    "\n",
    "test_result = pd.read_csv(os.path.join(target_dir, 'test_prediction.csv'))\n",
    "Metric(test_df.similarity, test_result.prediction)"
   ]
  },
  {
   "cell_type": "code",
   "execution_count": null,
   "metadata": {},
   "outputs": [
    {
     "name": "stderr",
     "output_type": "stream",
     "text": [
      "Some weights of BertForSequenceClassification were not initialized from the model checkpoint at bert-base-uncased and are newly initialized: ['classifier.bias', 'classifier.weight']\n",
      "You should probably TRAIN this model on a down-stream task to be able to use it for predictions and inference.\n"
     ]
    },
    {
     "name": "stdout",
     "output_type": "stream",
     "text": [
      "====================  Preparing for training  ====================\n",
      "\t* Loading training data...\n",
      "\t* Loading validation data...\n",
      "\t* Loading test data...\n",
      "\t* Building model...\n",
      "\n",
      "* Validation loss before training: 0.7005, accuracy: 51.3761%, auc: 0.5293\n",
      "\n",
      " ==================== Training bert model on device: cuda ====================\n",
      "* Training epoch 1:\n"
     ]
    },
    {
     "name": "stderr",
     "output_type": "stream",
     "text": [
      "Avg. batch proc. time: 9.6855s, loss: 0.4089: 100%|██████████| 109/109 [17:52<00:00,  9.84s/it]\n"
     ]
    },
    {
     "name": "stdout",
     "output_type": "stream",
     "text": [
      "-> Training time: 1072.4521s, loss = 0.4089, accuracy: 81.2572%\n",
      "* Validation for epoch 1:\n",
      "-> Valid. time: 5.2552s, loss: 0.2671, accuracy: 90.2523%, auc: 0.9625\n",
      "save model succesfully!\n",
      "\n",
      "* Training epoch 2:\n"
     ]
    },
    {
     "name": "stderr",
     "output_type": "stream",
     "text": [
      "Avg. batch proc. time: 7.1289s, loss: 0.2053: 100%|██████████| 109/109 [17:34<00:00,  9.67s/it]\n"
     ]
    },
    {
     "name": "stdout",
     "output_type": "stream",
     "text": [
      "-> Training time: 1054.5177s, loss = 0.2053, accuracy: 92.7746%\n",
      "* Validation for epoch 2:\n",
      "-> Valid. time: 3.6261s, loss: 0.2939, accuracy: 90.2523%, auc: 0.9687\n",
      "save model succesfully!\n",
      "\n",
      "* Training epoch 3:\n"
     ]
    },
    {
     "name": "stderr",
     "output_type": "stream",
     "text": [
      "Avg. batch proc. time: 8.3990s, loss: 0.0999: 100%|██████████| 109/109 [17:51<00:00,  9.83s/it]\n"
     ]
    },
    {
     "name": "stdout",
     "output_type": "stream",
     "text": [
      "-> Training time: 1071.8583s, loss = 0.0999, accuracy: 96.6474%\n",
      "* Validation for epoch 3:\n",
      "-> Valid. time: 3.8074s, loss: 0.2929, accuracy: 91.5138%, auc: 0.9632\n",
      "save model succesfully!\n",
      "\n"
     ]
    },
    {
     "name": "stderr",
     "output_type": "stream",
     "text": [
      "c:\\Users\\oumni\\Desktop\\DIRO-COURS\\HIVER 2025\\NLP with Deep Learning\\programming assignements\\IFT6289_A_H25_A2\\starter code\\Part 2\\trainer.py:186: FutureWarning: You are using `torch.load` with `weights_only=False` (the current default value), which uses the default pickle module implicitly. It is possible to construct malicious pickle data which will execute arbitrary code during unpickling (See https://github.com/pytorch/pytorch/blob/main/SECURITY.md#untrusted-models for more details). In a future release, the default value for `weights_only` will be flipped to `True`. This limits the functions that could be executed during unpickling. Arbitrary objects will no longer be allowed to be loaded via this mode unless they are explicitly allowlisted by the user via `torch.serialization.add_safe_globals`. We recommend you start setting `weights_only=True` for any use case where you don't have full control of the loaded file. Please open an issue on GitHub for any issues related to this experimental feature.\n",
      "  best_model = torch.load(os.path.join(target_dir, 'best.pth.tar'))\n"
     ]
    },
    {
     "name": "stdout",
     "output_type": "stream",
     "text": [
      "* Test for the best model from epoch 3:\n",
      "Test accuracy: 0.9055\n",
      "\n"
     ]
    }
   ],
   "source": [
    "\n",
    "model_train_validate_test(train_df, dev_df, test_df, target_dir,\n",
    "                          max_seq_len=128,  # Augmenté\n",
    "                          epochs=3,  # Augmenté\n",
    "                          batch_size=64,  #\n",
    "                          lr=3e-5,  # Réduit légèrement\n",
    "                          prefix_len=50,\n",
    "                          scheduler_patience=2,  # Augmenté\n",
    "                          early_stopping_patience=2,  # Augmenté\n",
    "                          max_grad_norm=10.0,\n",
    "                          if_save_model=True,\n",
    "                          checkpoint=None,\n",
    "                          mode='finetune')\n"
   ]
  },
  {
   "cell_type": "code",
   "execution_count": 11,
   "metadata": {},
   "outputs": [
    {
     "name": "stdout",
     "output_type": "stream",
     "text": [
      "Accuracy: 90.6%\n",
      "Precision: 90.6%\n",
      "Recall: 90.6%\n",
      "F1: 90.6%\n",
      "classification_report:\n",
      "\n",
      "              precision    recall  f1-score   support\n",
      "\n",
      "     class_0      0.894     0.920     0.907       912\n",
      "     class_1      0.917     0.891     0.904       909\n",
      "\n",
      "    accuracy                          0.906      1821\n",
      "   macro avg      0.906     0.906     0.906      1821\n",
      "weighted avg      0.906     0.906     0.906      1821\n",
      "\n"
     ]
    }
   ],
   "source": [
    "test_result_optimized = pd.read_csv(os.path.join(target_dir, 'test_prediction.csv'))\n",
    "Metric(test_df.similarity, test_result_optimized.prediction)"
   ]
  },
  {
   "cell_type": "markdown",
   "metadata": {
    "id": "rL7-8ZxnF7OY",
    "pycharm": {
     "name": "#%% md\n"
    }
   },
   "source": [
    "# Prefix-tuning BERT"
   ]
  },
  {
   "cell_type": "code",
   "execution_count": 12,
   "metadata": {
    "id": "8Kvqu722F17A",
    "pycharm": {
     "name": "#%%\n"
    }
   },
   "outputs": [
    {
     "name": "stdout",
     "output_type": "stream",
     "text": [
      "====================  Preparing for training  ====================\n",
      "\t* Loading training data...\n",
      "\t* Loading validation data...\n",
      "\t* Loading test data...\n",
      "\t* Building model...\n",
      "\n",
      "* Validation loss before training: 0.6857, accuracy: 57.5688%, auc: 0.6387\n",
      "\n",
      " ==================== Training bert model on device: cuda ====================\n",
      "* Training epoch 1:\n"
     ]
    },
    {
     "name": "stderr",
     "output_type": "stream",
     "text": [
      "Avg. batch proc. time: 0.2156s, loss: 0.6298: 100%|██████████| 217/217 [01:01<00:00,  3.54it/s]\n"
     ]
    },
    {
     "name": "stdout",
     "output_type": "stream",
     "text": [
      "-> Training time: 61.3293s, loss = 0.6298, accuracy: 62.3410%\n",
      "* Validation for epoch 1:\n",
      "-> Valid. time: 3.4835s, loss: 0.4372, accuracy: 82.2248%, auc: 0.8926\n",
      "save model succesfully!\n",
      "\n",
      "* Training epoch 2:\n"
     ]
    },
    {
     "name": "stderr",
     "output_type": "stream",
     "text": [
      "Avg. batch proc. time: 0.1902s, loss: 0.4284: 100%|██████████| 217/217 [00:57<00:00,  3.79it/s]\n"
     ]
    },
    {
     "name": "stdout",
     "output_type": "stream",
     "text": [
      "-> Training time: 57.2609s, loss = 0.4284, accuracy: 80.7081%\n",
      "* Validation for epoch 2:\n",
      "-> Valid. time: 2.9301s, loss: 0.3403, accuracy: 86.4679%, auc: 0.9359\n",
      "save model succesfully!\n",
      "\n",
      "* Training epoch 3:\n"
     ]
    },
    {
     "name": "stderr",
     "output_type": "stream",
     "text": [
      "Avg. batch proc. time: 0.1859s, loss: 0.3649: 100%|██████████| 217/217 [00:53<00:00,  4.02it/s]\n"
     ]
    },
    {
     "name": "stdout",
     "output_type": "stream",
     "text": [
      "-> Training time: 53.9215s, loss = 0.3649, accuracy: 83.9451%\n",
      "* Validation for epoch 3:\n",
      "-> Valid. time: 2.8415s, loss: 0.3048, accuracy: 86.2385%, auc: 0.9433\n",
      "* Training epoch 4:\n"
     ]
    },
    {
     "name": "stderr",
     "output_type": "stream",
     "text": [
      "Avg. batch proc. time: 0.2524s, loss: 0.3410: 100%|██████████| 217/217 [01:06<00:00,  3.26it/s]\n"
     ]
    },
    {
     "name": "stdout",
     "output_type": "stream",
     "text": [
      "-> Training time: 66.5311s, loss = 0.3410, accuracy: 85.9249%\n",
      "* Validation for epoch 4:\n",
      "-> Valid. time: 3.6474s, loss: 0.3039, accuracy: 86.8119%, auc: 0.9464\n",
      "save model succesfully!\n",
      "\n",
      "* Training epoch 5:\n"
     ]
    },
    {
     "name": "stderr",
     "output_type": "stream",
     "text": [
      "Avg. batch proc. time: 0.2743s, loss: 0.3198: 100%|██████████| 217/217 [01:09<00:00,  3.11it/s]\n"
     ]
    },
    {
     "name": "stdout",
     "output_type": "stream",
     "text": [
      "-> Training time: 69.8930s, loss = 0.3198, accuracy: 85.9971%\n",
      "* Validation for epoch 5:\n",
      "-> Valid. time: 3.6982s, loss: 0.2973, accuracy: 86.6972%, auc: 0.9490\n",
      "* Training epoch 6:\n"
     ]
    },
    {
     "name": "stderr",
     "output_type": "stream",
     "text": [
      "Avg. batch proc. time: 0.2696s, loss: 0.3099: 100%|██████████| 217/217 [01:09<00:00,  3.12it/s]\n"
     ]
    },
    {
     "name": "stdout",
     "output_type": "stream",
     "text": [
      "-> Training time: 69.5587s, loss = 0.3099, accuracy: 86.9364%\n",
      "* Validation for epoch 6:\n",
      "-> Valid. time: 3.6448s, loss: 0.2951, accuracy: 87.2706%, auc: 0.9513\n",
      "save model succesfully!\n",
      "\n",
      "* Training epoch 7:\n"
     ]
    },
    {
     "name": "stderr",
     "output_type": "stream",
     "text": [
      "Avg. batch proc. time: 0.2655s, loss: 0.2988: 100%|██████████| 217/217 [01:08<00:00,  3.17it/s]\n"
     ]
    },
    {
     "name": "stdout",
     "output_type": "stream",
     "text": [
      "-> Training time: 68.5627s, loss = 0.2988, accuracy: 87.5578%\n",
      "* Validation for epoch 7:\n",
      "-> Valid. time: 3.8062s, loss: 0.2940, accuracy: 87.9587%, auc: 0.9531\n",
      "save model succesfully!\n",
      "\n",
      "* Training epoch 8:\n"
     ]
    },
    {
     "name": "stderr",
     "output_type": "stream",
     "text": [
      "Avg. batch proc. time: 0.2786s, loss: 0.2899: 100%|██████████| 217/217 [01:10<00:00,  3.10it/s]\n"
     ]
    },
    {
     "name": "stdout",
     "output_type": "stream",
     "text": [
      "-> Training time: 70.0728s, loss = 0.2899, accuracy: 87.8902%\n",
      "* Validation for epoch 8:\n",
      "-> Valid. time: 3.7277s, loss: 0.2730, accuracy: 88.3028%, auc: 0.9544\n",
      "save model succesfully!\n",
      "\n",
      "* Training epoch 9:\n"
     ]
    },
    {
     "name": "stderr",
     "output_type": "stream",
     "text": [
      "Avg. batch proc. time: 0.2690s, loss: 0.2791: 100%|██████████| 217/217 [01:09<00:00,  3.14it/s]\n"
     ]
    },
    {
     "name": "stdout",
     "output_type": "stream",
     "text": [
      "-> Training time: 69.1396s, loss = 0.2791, accuracy: 88.3382%\n",
      "* Validation for epoch 9:\n",
      "-> Valid. time: 3.6293s, loss: 0.2872, accuracy: 88.1881%, auc: 0.9562\n",
      "* Training epoch 10:\n"
     ]
    },
    {
     "name": "stderr",
     "output_type": "stream",
     "text": [
      "Avg. batch proc. time: 0.2760s, loss: 0.2783: 100%|██████████| 217/217 [01:09<00:00,  3.11it/s]\n"
     ]
    },
    {
     "name": "stdout",
     "output_type": "stream",
     "text": [
      "-> Training time: 69.8112s, loss = 0.2783, accuracy: 88.5694%\n",
      "* Validation for epoch 10:\n",
      "-> Valid. time: 3.6398s, loss: 0.2789, accuracy: 87.7294%, auc: 0.9580\n",
      "* Training epoch 11:\n"
     ]
    },
    {
     "name": "stderr",
     "output_type": "stream",
     "text": [
      "Avg. batch proc. time: 0.1935s, loss: 0.2652: 100%|██████████| 217/217 [00:59<00:00,  3.66it/s]\n"
     ]
    },
    {
     "name": "stdout",
     "output_type": "stream",
     "text": [
      "-> Training time: 59.3195s, loss = 0.2652, accuracy: 88.7717%\n",
      "* Validation for epoch 11:\n",
      "-> Valid. time: 3.4954s, loss: 0.2741, accuracy: 87.9587%, auc: 0.9583\n",
      "* Training epoch 12:\n"
     ]
    },
    {
     "name": "stderr",
     "output_type": "stream",
     "text": [
      "Avg. batch proc. time: 0.2237s, loss: 0.2602: 100%|██████████| 217/217 [01:02<00:00,  3.46it/s]\n"
     ]
    },
    {
     "name": "stdout",
     "output_type": "stream",
     "text": [
      "-> Training time: 62.7832s, loss = 0.2602, accuracy: 89.3497%\n",
      "* Validation for epoch 12:\n",
      "-> Valid. time: 3.5371s, loss: 0.2541, accuracy: 89.1055%, auc: 0.9592\n",
      "save model succesfully!\n",
      "\n",
      "* Training epoch 13:\n"
     ]
    },
    {
     "name": "stderr",
     "output_type": "stream",
     "text": [
      "Avg. batch proc. time: 0.2035s, loss: 0.2555: 100%|██████████| 217/217 [01:00<00:00,  3.58it/s]\n"
     ]
    },
    {
     "name": "stdout",
     "output_type": "stream",
     "text": [
      "-> Training time: 60.5830s, loss = 0.2555, accuracy: 89.4798%\n",
      "* Validation for epoch 13:\n",
      "-> Valid. time: 3.6240s, loss: 0.2614, accuracy: 88.9908%, auc: 0.9599\n",
      "* Training epoch 14:\n"
     ]
    },
    {
     "name": "stderr",
     "output_type": "stream",
     "text": [
      "Avg. batch proc. time: 0.2789s, loss: 0.2495: 100%|██████████| 217/217 [01:09<00:00,  3.12it/s]\n"
     ]
    },
    {
     "name": "stdout",
     "output_type": "stream",
     "text": [
      "-> Training time: 69.4962s, loss = 0.2495, accuracy: 89.5954%\n",
      "* Validation for epoch 14:\n",
      "-> Valid. time: 3.7300s, loss: 0.2596, accuracy: 89.1055%, auc: 0.9599\n",
      "save model succesfully!\n",
      "\n",
      "* Training epoch 15:\n"
     ]
    },
    {
     "name": "stderr",
     "output_type": "stream",
     "text": [
      "Avg. batch proc. time: 0.2728s, loss: 0.2426: 100%|██████████| 217/217 [01:09<00:00,  3.12it/s]\n"
     ]
    },
    {
     "name": "stdout",
     "output_type": "stream",
     "text": [
      "-> Training time: 69.6596s, loss = 0.2426, accuracy: 90.4046%\n",
      "* Validation for epoch 15:\n",
      "-> Valid. time: 3.6741s, loss: 0.2602, accuracy: 89.2202%, auc: 0.9611\n",
      "save model succesfully!\n",
      "\n",
      "* Training epoch 16:\n"
     ]
    },
    {
     "name": "stderr",
     "output_type": "stream",
     "text": [
      "Avg. batch proc. time: 0.2599s, loss: 0.2377: 100%|██████████| 217/217 [01:08<00:00,  3.19it/s]\n"
     ]
    },
    {
     "name": "stdout",
     "output_type": "stream",
     "text": [
      "-> Training time: 68.1049s, loss = 0.2377, accuracy: 90.2601%\n",
      "* Validation for epoch 16:\n",
      "-> Valid. time: 2.8963s, loss: 0.2558, accuracy: 89.7936%, auc: 0.9620\n",
      "save model succesfully!\n",
      "\n",
      "* Training epoch 17:\n"
     ]
    },
    {
     "name": "stderr",
     "output_type": "stream",
     "text": [
      "Avg. batch proc. time: 0.2119s, loss: 0.2244: 100%|██████████| 217/217 [01:00<00:00,  3.57it/s]\n"
     ]
    },
    {
     "name": "stdout",
     "output_type": "stream",
     "text": [
      "-> Training time: 60.7309s, loss = 0.2244, accuracy: 91.0983%\n",
      "* Validation for epoch 17:\n",
      "-> Valid. time: 3.6393s, loss: 0.2622, accuracy: 89.6789%, auc: 0.9622\n",
      "* Training epoch 18:\n"
     ]
    },
    {
     "name": "stderr",
     "output_type": "stream",
     "text": [
      "Avg. batch proc. time: 0.2862s, loss: 0.2301: 100%|██████████| 217/217 [01:10<00:00,  3.06it/s]\n"
     ]
    },
    {
     "name": "stdout",
     "output_type": "stream",
     "text": [
      "-> Training time: 70.9680s, loss = 0.2301, accuracy: 90.7081%\n",
      "* Validation for epoch 18:\n",
      "-> Valid. time: 3.6946s, loss: 0.2709, accuracy: 89.7936%, auc: 0.9619\n",
      "save model succesfully!\n",
      "\n",
      "* Training epoch 19:\n"
     ]
    },
    {
     "name": "stderr",
     "output_type": "stream",
     "text": [
      "Avg. batch proc. time: 0.2559s, loss: 0.2176: 100%|██████████| 217/217 [01:06<00:00,  3.26it/s]\n"
     ]
    },
    {
     "name": "stdout",
     "output_type": "stream",
     "text": [
      "-> Training time: 66.6393s, loss = 0.2176, accuracy: 91.1127%\n",
      "* Validation for epoch 19:\n",
      "-> Valid. time: 3.6383s, loss: 0.2647, accuracy: 89.7936%, auc: 0.9625\n",
      "save model succesfully!\n",
      "\n",
      "* Training epoch 20:\n"
     ]
    },
    {
     "name": "stderr",
     "output_type": "stream",
     "text": [
      "Avg. batch proc. time: 0.2793s, loss: 0.2218: 100%|██████████| 217/217 [01:09<00:00,  3.11it/s]\n"
     ]
    },
    {
     "name": "stdout",
     "output_type": "stream",
     "text": [
      "-> Training time: 69.7057s, loss = 0.2218, accuracy: 91.2139%\n",
      "* Validation for epoch 20:\n",
      "-> Valid. time: 3.6019s, loss: 0.2695, accuracy: 89.1055%, auc: 0.9625\n"
     ]
    },
    {
     "name": "stderr",
     "output_type": "stream",
     "text": [
      "c:\\Users\\oumni\\Desktop\\DIRO-COURS\\HIVER 2025\\NLP with Deep Learning\\programming assignements\\IFT6289_A_H25_A2\\starter code\\Part 2\\trainer.py:186: FutureWarning: You are using `torch.load` with `weights_only=False` (the current default value), which uses the default pickle module implicitly. It is possible to construct malicious pickle data which will execute arbitrary code during unpickling (See https://github.com/pytorch/pytorch/blob/main/SECURITY.md#untrusted-models for more details). In a future release, the default value for `weights_only` will be flipped to `True`. This limits the functions that could be executed during unpickling. Arbitrary objects will no longer be allowed to be loaded via this mode unless they are explicitly allowlisted by the user via `torch.serialization.add_safe_globals`. We recommend you start setting `weights_only=True` for any use case where you don't have full control of the loaded file. Please open an issue on GitHub for any issues related to this experimental feature.\n",
      "  best_model = torch.load(os.path.join(target_dir, 'best.pth.tar'))\n"
     ]
    },
    {
     "name": "stdout",
     "output_type": "stream",
     "text": [
      "* Test for the best model from epoch 19:\n",
      "Test accuracy: 0.9055\n",
      "\n",
      "Accuracy: 90.6%\n",
      "Precision: 90.6%\n",
      "Recall: 90.6%\n",
      "F1: 90.6%\n",
      "classification_report:\n",
      "\n",
      "              precision    recall  f1-score   support\n",
      "\n",
      "     class_0      0.917     0.893     0.904       912\n",
      "     class_1      0.895     0.919     0.907       909\n",
      "\n",
      "    accuracy                          0.906      1821\n",
      "   macro avg      0.906     0.906     0.906      1821\n",
      "weighted avg      0.906     0.906     0.906      1821\n",
      "\n"
     ]
    }
   ],
   "source": [
    "from trainer import model_train_validate_test\n",
    "import pandas as pd\n",
    "from utils import Metric\n",
    "import os\n",
    "\n",
    "target_dir = \"./output/Bert/prefixtune\"\n",
    "\n",
    "model_train_validate_test(train_df, dev_df, test_df, target_dir,\n",
    "                          max_seq_len=50,\n",
    "                          epochs=20,\n",
    "                          batch_size=32,\n",
    "                          lr=5e-4,\n",
    "                          prefix_len=50,\n",
    "                          scheduler_patience=5,\n",
    "                          early_stopping_patience=8,\n",
    "                          max_grad_norm=10.0,\n",
    "                          if_save_model=True,\n",
    "                          checkpoint=None,\n",
    "                          mode='prefixtune')\n",
    "\n",
    "test_result = pd.read_csv(os.path.join(target_dir, 'test_prediction.csv'))\n",
    "Metric(test_df.similarity, test_result.prediction)"
   ]
  },
  {
   "cell_type": "code",
   "execution_count": 15,
   "metadata": {},
   "outputs": [
    {
     "name": "stdout",
     "output_type": "stream",
     "text": [
      "====================  Preparing for training  ====================\n",
      "\t* Loading training data...\n",
      "\t* Loading validation data...\n",
      "\t* Loading test data...\n",
      "\t* Building model...\n",
      "\n",
      "* Validation loss before training: 0.7117, accuracy: 50.9174%, auc: 0.6068\n",
      "\n",
      " ==================== Training bert model on device: cuda ====================\n",
      "* Training epoch 1:\n"
     ]
    },
    {
     "name": "stderr",
     "output_type": "stream",
     "text": [
      "Avg. batch proc. time: 0.1037s, loss: 0.6291: 100%|██████████| 217/217 [00:47<00:00,  4.59it/s]\n"
     ]
    },
    {
     "name": "stdout",
     "output_type": "stream",
     "text": [
      "-> Training time: 47.2497s, loss = 0.6291, accuracy: 63.4827%\n",
      "* Validation for epoch 1:\n",
      "-> Valid. time: 2.3633s, loss: 0.4468, accuracy: 78.7844%, auc: 0.8849\n",
      "save model succesfully!\n",
      "\n",
      "* Training epoch 2:\n"
     ]
    },
    {
     "name": "stderr",
     "output_type": "stream",
     "text": [
      "Avg. batch proc. time: 0.1215s, loss: 0.4391: 100%|██████████| 217/217 [00:47<00:00,  4.55it/s]\n"
     ]
    },
    {
     "name": "stdout",
     "output_type": "stream",
     "text": [
      "-> Training time: 47.6871s, loss = 0.4391, accuracy: 79.6387%\n",
      "* Validation for epoch 2:\n",
      "-> Valid. time: 2.2971s, loss: 0.3392, accuracy: 85.5505%, auc: 0.9321\n",
      "save model succesfully!\n",
      "\n",
      "* Training epoch 3:\n"
     ]
    },
    {
     "name": "stderr",
     "output_type": "stream",
     "text": [
      "Avg. batch proc. time: 0.1229s, loss: 0.3689: 100%|██████████| 217/217 [00:47<00:00,  4.58it/s]\n"
     ]
    },
    {
     "name": "stdout",
     "output_type": "stream",
     "text": [
      "-> Training time: 47.3732s, loss = 0.3689, accuracy: 83.8150%\n",
      "* Validation for epoch 3:\n",
      "-> Valid. time: 2.2921s, loss: 0.3223, accuracy: 86.3532%, auc: 0.9413\n",
      "save model succesfully!\n",
      "\n",
      "* Training epoch 4:\n"
     ]
    },
    {
     "name": "stderr",
     "output_type": "stream",
     "text": [
      "Avg. batch proc. time: 0.1231s, loss: 0.3456: 100%|██████████| 217/217 [00:47<00:00,  4.59it/s]\n"
     ]
    },
    {
     "name": "stdout",
     "output_type": "stream",
     "text": [
      "-> Training time: 47.2580s, loss = 0.3456, accuracy: 85.3613%\n",
      "* Validation for epoch 4:\n",
      "-> Valid. time: 2.3115s, loss: 0.2976, accuracy: 87.6147%, auc: 0.9465\n",
      "save model succesfully!\n",
      "\n",
      "* Training epoch 5:\n"
     ]
    },
    {
     "name": "stderr",
     "output_type": "stream",
     "text": [
      "Avg. batch proc. time: 0.1197s, loss: 0.3197: 100%|██████████| 217/217 [00:47<00:00,  4.55it/s]\n"
     ]
    },
    {
     "name": "stdout",
     "output_type": "stream",
     "text": [
      "-> Training time: 47.6617s, loss = 0.3197, accuracy: 86.0694%\n",
      "* Validation for epoch 5:\n",
      "-> Valid. time: 2.3067s, loss: 0.2953, accuracy: 87.6147%, auc: 0.9493\n",
      "save model succesfully!\n",
      "\n",
      "* Training epoch 6:\n"
     ]
    },
    {
     "name": "stderr",
     "output_type": "stream",
     "text": [
      "Avg. batch proc. time: 0.1164s, loss: 0.3145: 100%|██████████| 217/217 [00:47<00:00,  4.54it/s]\n"
     ]
    },
    {
     "name": "stdout",
     "output_type": "stream",
     "text": [
      "-> Training time: 47.8181s, loss = 0.3145, accuracy: 86.4451%\n",
      "* Validation for epoch 6:\n",
      "-> Valid. time: 2.4690s, loss: 0.2944, accuracy: 88.0734%, auc: 0.9529\n",
      "save model succesfully!\n",
      "\n",
      "* Training epoch 7:\n"
     ]
    },
    {
     "name": "stderr",
     "output_type": "stream",
     "text": [
      "Avg. batch proc. time: 0.1158s, loss: 0.2958: 100%|██████████| 217/217 [00:48<00:00,  4.48it/s]\n"
     ]
    },
    {
     "name": "stdout",
     "output_type": "stream",
     "text": [
      "-> Training time: 48.4403s, loss = 0.2958, accuracy: 87.5867%\n",
      "* Validation for epoch 7:\n",
      "-> Valid. time: 2.7810s, loss: 0.2800, accuracy: 88.0734%, auc: 0.9554\n",
      "save model succesfully!\n",
      "\n",
      "* Training epoch 8:\n"
     ]
    },
    {
     "name": "stderr",
     "output_type": "stream",
     "text": [
      "Avg. batch proc. time: 0.1113s, loss: 0.2940: 100%|██████████| 217/217 [00:47<00:00,  4.56it/s]\n"
     ]
    },
    {
     "name": "stdout",
     "output_type": "stream",
     "text": [
      "-> Training time: 47.5514s, loss = 0.2940, accuracy: 87.3410%\n",
      "* Validation for epoch 8:\n",
      "-> Valid. time: 2.4369s, loss: 0.2682, accuracy: 89.2202%, auc: 0.9574\n",
      "save model succesfully!\n",
      "\n",
      "* Training epoch 9:\n"
     ]
    },
    {
     "name": "stderr",
     "output_type": "stream",
     "text": [
      "Avg. batch proc. time: 0.1151s, loss: 0.2843: 100%|██████████| 217/217 [00:47<00:00,  4.54it/s]\n"
     ]
    },
    {
     "name": "stdout",
     "output_type": "stream",
     "text": [
      "-> Training time: 47.7593s, loss = 0.2843, accuracy: 88.0925%\n",
      "* Validation for epoch 9:\n",
      "-> Valid. time: 2.6268s, loss: 0.2706, accuracy: 89.6789%, auc: 0.9582\n",
      "save model succesfully!\n",
      "\n",
      "* Training epoch 10:\n"
     ]
    },
    {
     "name": "stderr",
     "output_type": "stream",
     "text": [
      "Avg. batch proc. time: 0.1170s, loss: 0.2819: 100%|██████████| 217/217 [00:49<00:00,  4.35it/s]\n"
     ]
    },
    {
     "name": "stdout",
     "output_type": "stream",
     "text": [
      "-> Training time: 49.8364s, loss = 0.2819, accuracy: 88.3382%\n",
      "* Validation for epoch 10:\n",
      "-> Valid. time: 2.5190s, loss: 0.2580, accuracy: 89.2202%, auc: 0.9595\n",
      "* Training epoch 11:\n"
     ]
    },
    {
     "name": "stderr",
     "output_type": "stream",
     "text": [
      "Avg. batch proc. time: 0.1219s, loss: 0.2688: 100%|██████████| 217/217 [00:49<00:00,  4.37it/s]\n"
     ]
    },
    {
     "name": "stdout",
     "output_type": "stream",
     "text": [
      "-> Training time: 49.6851s, loss = 0.2688, accuracy: 89.0318%\n",
      "* Validation for epoch 11:\n",
      "-> Valid. time: 2.4900s, loss: 0.2565, accuracy: 89.9083%, auc: 0.9597\n",
      "save model succesfully!\n",
      "\n",
      "* Training epoch 12:\n"
     ]
    },
    {
     "name": "stderr",
     "output_type": "stream",
     "text": [
      "Avg. batch proc. time: 0.1219s, loss: 0.2606: 100%|██████████| 217/217 [00:50<00:00,  4.33it/s]\n"
     ]
    },
    {
     "name": "stdout",
     "output_type": "stream",
     "text": [
      "-> Training time: 50.1197s, loss = 0.2606, accuracy: 89.0029%\n",
      "* Validation for epoch 12:\n",
      "-> Valid. time: 3.0238s, loss: 0.2527, accuracy: 89.7936%, auc: 0.9611\n",
      "* Training epoch 13:\n"
     ]
    },
    {
     "name": "stderr",
     "output_type": "stream",
     "text": [
      "Avg. batch proc. time: 0.0961s, loss: 0.2550: 100%|██████████| 217/217 [00:50<00:00,  4.33it/s]\n"
     ]
    },
    {
     "name": "stdout",
     "output_type": "stream",
     "text": [
      "-> Training time: 50.0964s, loss = 0.2550, accuracy: 89.1908%\n",
      "* Validation for epoch 13:\n",
      "-> Valid. time: 2.6422s, loss: 0.2581, accuracy: 89.4495%, auc: 0.9611\n",
      "* Training epoch 14:\n"
     ]
    },
    {
     "name": "stderr",
     "output_type": "stream",
     "text": [
      "Avg. batch proc. time: 0.0815s, loss: 0.2529: 100%|██████████| 217/217 [00:49<00:00,  4.34it/s]\n"
     ]
    },
    {
     "name": "stdout",
     "output_type": "stream",
     "text": [
      "-> Training time: 49.9562s, loss = 0.2529, accuracy: 89.6965%\n",
      "* Validation for epoch 14:\n",
      "-> Valid. time: 2.6195s, loss: 0.2715, accuracy: 89.1055%, auc: 0.9615\n",
      "* Training epoch 15:\n"
     ]
    },
    {
     "name": "stderr",
     "output_type": "stream",
     "text": [
      "Avg. batch proc. time: 0.0533s, loss: 0.2502: 100%|██████████| 217/217 [00:44<00:00,  4.91it/s]\n"
     ]
    },
    {
     "name": "stdout",
     "output_type": "stream",
     "text": [
      "-> Training time: 44.2196s, loss = 0.2502, accuracy: 89.7688%\n",
      "* Validation for epoch 15:\n",
      "-> Valid. time: 2.3812s, loss: 0.2493, accuracy: 90.1376%, auc: 0.9627\n",
      "save model succesfully!\n",
      "\n",
      "* Training epoch 16:\n"
     ]
    },
    {
     "name": "stderr",
     "output_type": "stream",
     "text": [
      "Avg. batch proc. time: 0.0530s, loss: 0.2427: 100%|██████████| 217/217 [00:44<00:00,  4.86it/s]\n"
     ]
    },
    {
     "name": "stdout",
     "output_type": "stream",
     "text": [
      "-> Training time: 44.6447s, loss = 0.2427, accuracy: 90.3324%\n",
      "* Validation for epoch 16:\n",
      "-> Valid. time: 2.5313s, loss: 0.2684, accuracy: 90.7110%, auc: 0.9626\n",
      "save model succesfully!\n",
      "\n",
      "* Training epoch 17:\n"
     ]
    },
    {
     "name": "stderr",
     "output_type": "stream",
     "text": [
      "Avg. batch proc. time: 0.0509s, loss: 0.2320: 100%|██████████| 217/217 [00:44<00:00,  4.89it/s]\n"
     ]
    },
    {
     "name": "stdout",
     "output_type": "stream",
     "text": [
      "-> Training time: 44.3504s, loss = 0.2320, accuracy: 90.5347%\n",
      "* Validation for epoch 17:\n",
      "-> Valid. time: 2.2648s, loss: 0.2543, accuracy: 90.8257%, auc: 0.9626\n",
      "save model succesfully!\n",
      "\n",
      "* Training epoch 18:\n"
     ]
    },
    {
     "name": "stderr",
     "output_type": "stream",
     "text": [
      "Avg. batch proc. time: 0.0482s, loss: 0.2242: 100%|██████████| 217/217 [00:44<00:00,  4.89it/s]\n"
     ]
    },
    {
     "name": "stdout",
     "output_type": "stream",
     "text": [
      "-> Training time: 44.3850s, loss = 0.2242, accuracy: 90.6647%\n",
      "* Validation for epoch 18:\n",
      "-> Valid. time: 2.3713s, loss: 0.2740, accuracy: 90.4817%, auc: 0.9621\n",
      "* Training epoch 19:\n"
     ]
    },
    {
     "name": "stderr",
     "output_type": "stream",
     "text": [
      "Avg. batch proc. time: 0.0516s, loss: 0.2202: 100%|██████████| 217/217 [00:44<00:00,  4.89it/s]\n"
     ]
    },
    {
     "name": "stdout",
     "output_type": "stream",
     "text": [
      "-> Training time: 44.3909s, loss = 0.2202, accuracy: 91.0260%\n",
      "* Validation for epoch 19:\n",
      "-> Valid. time: 2.3719s, loss: 0.2483, accuracy: 90.8257%, auc: 0.9632\n",
      "save model succesfully!\n",
      "\n",
      "* Training epoch 20:\n"
     ]
    },
    {
     "name": "stderr",
     "output_type": "stream",
     "text": [
      "Avg. batch proc. time: 0.0499s, loss: 0.2171: 100%|██████████| 217/217 [00:43<00:00,  5.02it/s]\n"
     ]
    },
    {
     "name": "stdout",
     "output_type": "stream",
     "text": [
      "-> Training time: 43.1922s, loss = 0.2171, accuracy: 91.2283%\n",
      "* Validation for epoch 20:\n",
      "-> Valid. time: 2.2609s, loss: 0.2657, accuracy: 91.3991%, auc: 0.9638\n",
      "save model succesfully!\n",
      "\n",
      "* Training epoch 21:\n"
     ]
    },
    {
     "name": "stderr",
     "output_type": "stream",
     "text": [
      "Avg. batch proc. time: 0.0499s, loss: 0.2160: 100%|██████████| 217/217 [00:43<00:00,  5.02it/s]\n"
     ]
    },
    {
     "name": "stdout",
     "output_type": "stream",
     "text": [
      "-> Training time: 43.2432s, loss = 0.2160, accuracy: 90.8671%\n",
      "* Validation for epoch 21:\n",
      "-> Valid. time: 2.2470s, loss: 0.2439, accuracy: 90.5963%, auc: 0.9632\n",
      "* Training epoch 22:\n"
     ]
    },
    {
     "name": "stderr",
     "output_type": "stream",
     "text": [
      "Avg. batch proc. time: 0.0677s, loss: 0.2076: 100%|██████████| 217/217 [00:47<00:00,  4.60it/s]\n"
     ]
    },
    {
     "name": "stdout",
     "output_type": "stream",
     "text": [
      "-> Training time: 47.2225s, loss = 0.2076, accuracy: 91.8064%\n",
      "* Validation for epoch 22:\n",
      "-> Valid. time: 2.1415s, loss: 0.2560, accuracy: 90.5963%, auc: 0.9639\n",
      "* Training epoch 23:\n"
     ]
    },
    {
     "name": "stderr",
     "output_type": "stream",
     "text": [
      "Avg. batch proc. time: 0.0496s, loss: 0.2002: 100%|██████████| 217/217 [00:42<00:00,  5.11it/s]\n"
     ]
    },
    {
     "name": "stdout",
     "output_type": "stream",
     "text": [
      "-> Training time: 42.4621s, loss = 0.2002, accuracy: 91.9653%\n",
      "* Validation for epoch 23:\n",
      "-> Valid. time: 2.2070s, loss: 0.2647, accuracy: 90.8257%, auc: 0.9632\n",
      "* Training epoch 24:\n"
     ]
    },
    {
     "name": "stderr",
     "output_type": "stream",
     "text": [
      "Avg. batch proc. time: 0.0517s, loss: 0.1963: 100%|██████████| 217/217 [00:43<00:00,  4.94it/s]\n"
     ]
    },
    {
     "name": "stdout",
     "output_type": "stream",
     "text": [
      "-> Training time: 43.9307s, loss = 0.1963, accuracy: 92.2254%\n",
      "* Validation for epoch 24:\n",
      "-> Valid. time: 2.2803s, loss: 0.2718, accuracy: 90.1376%, auc: 0.9638\n",
      "* Training epoch 25:\n"
     ]
    },
    {
     "name": "stderr",
     "output_type": "stream",
     "text": [
      "Avg. batch proc. time: 0.0509s, loss: 0.1929: 100%|██████████| 217/217 [00:43<00:00,  4.98it/s]\n"
     ]
    },
    {
     "name": "stdout",
     "output_type": "stream",
     "text": [
      "-> Training time: 43.5431s, loss = 0.1929, accuracy: 92.2688%\n",
      "* Validation for epoch 25:\n",
      "-> Valid. time: 2.2621s, loss: 0.2603, accuracy: 90.4817%, auc: 0.9637\n",
      "* Training epoch 26:\n"
     ]
    },
    {
     "name": "stderr",
     "output_type": "stream",
     "text": [
      "Avg. batch proc. time: 0.0498s, loss: 0.1924: 100%|██████████| 217/217 [00:42<00:00,  5.08it/s]\n"
     ]
    },
    {
     "name": "stdout",
     "output_type": "stream",
     "text": [
      "-> Training time: 42.7162s, loss = 0.1924, accuracy: 92.6156%\n",
      "* Validation for epoch 26:\n",
      "-> Valid. time: 2.1820s, loss: 0.2930, accuracy: 89.7936%, auc: 0.9636\n",
      "* Training epoch 27:\n"
     ]
    },
    {
     "name": "stderr",
     "output_type": "stream",
     "text": [
      "Avg. batch proc. time: 0.0500s, loss: 0.1838: 100%|██████████| 217/217 [00:44<00:00,  4.83it/s]\n"
     ]
    },
    {
     "name": "stdout",
     "output_type": "stream",
     "text": [
      "-> Training time: 44.9137s, loss = 0.1838, accuracy: 92.8035%\n",
      "* Validation for epoch 27:\n",
      "-> Valid. time: 2.5725s, loss: 0.2767, accuracy: 90.5963%, auc: 0.9635\n",
      "* Training epoch 28:\n"
     ]
    },
    {
     "name": "stderr",
     "output_type": "stream",
     "text": [
      "Avg. batch proc. time: 0.0694s, loss: 0.1782: 100%|██████████| 217/217 [00:51<00:00,  4.18it/s]\n"
     ]
    },
    {
     "name": "stdout",
     "output_type": "stream",
     "text": [
      "-> Training time: 51.9291s, loss = 0.1782, accuracy: 92.8902%\n",
      "* Validation for epoch 28:\n",
      "-> Valid. time: 2.6607s, loss: 0.2684, accuracy: 90.4817%, auc: 0.9633\n",
      "-> Early stopping: patience limit reached, stopping...\n"
     ]
    },
    {
     "name": "stderr",
     "output_type": "stream",
     "text": [
      "c:\\Users\\oumni\\Desktop\\DIRO-COURS\\HIVER 2025\\NLP with Deep Learning\\programming assignements\\IFT6289_A_H25_A2\\starter code\\Part 2\\trainer.py:186: FutureWarning: You are using `torch.load` with `weights_only=False` (the current default value), which uses the default pickle module implicitly. It is possible to construct malicious pickle data which will execute arbitrary code during unpickling (See https://github.com/pytorch/pytorch/blob/main/SECURITY.md#untrusted-models for more details). In a future release, the default value for `weights_only` will be flipped to `True`. This limits the functions that could be executed during unpickling. Arbitrary objects will no longer be allowed to be loaded via this mode unless they are explicitly allowlisted by the user via `torch.serialization.add_safe_globals`. We recommend you start setting `weights_only=True` for any use case where you don't have full control of the loaded file. Please open an issue on GitHub for any issues related to this experimental feature.\n",
      "  best_model = torch.load(os.path.join(target_dir, 'best.pth.tar'))\n"
     ]
    },
    {
     "name": "stdout",
     "output_type": "stream",
     "text": [
      "* Test for the best model from epoch 20:\n",
      "Test accuracy: 0.9132\n",
      "\n"
     ]
    }
   ],
   "source": [
    "model_train_validate_test(train_df, dev_df, test_df, target_dir,\n",
    "                          max_seq_len=50,  \n",
    "                          epochs=30,  \n",
    "                          batch_size=32,\n",
    "                          lr=5e-4, \n",
    "                          prefix_len=50,  \n",
    "                          scheduler_patience=5,\n",
    "                          early_stopping_patience=8,  \n",
    "                          max_grad_norm=10.0,\n",
    "                          if_save_model=True,\n",
    "                          checkpoint=None,\n",
    "                          mode='prefixtune')"
   ]
  }
 ],
 "metadata": {
  "colab": {
   "collapsed_sections": [],
   "name": "run.ipynb",
   "private_outputs": true,
   "provenance": [],
   "toc_visible": true
  },
  "kernelspec": {
   "display_name": "ift6758-conda-env",
   "language": "python",
   "name": "python3"
  },
  "language_info": {
   "codemirror_mode": {
    "name": "ipython",
    "version": 3
   },
   "file_extension": ".py",
   "mimetype": "text/x-python",
   "name": "python",
   "nbconvert_exporter": "python",
   "pygments_lexer": "ipython3",
   "version": "3.12.6"
  },
  "varInspector": {
   "cols": {
    "lenName": 16,
    "lenType": 16,
    "lenVar": 40
   },
   "kernels_config": {
    "python": {
     "delete_cmd_postfix": "",
     "delete_cmd_prefix": "del ",
     "library": "var_list.py",
     "varRefreshCmd": "print(var_dic_list())"
    },
    "r": {
     "delete_cmd_postfix": ") ",
     "delete_cmd_prefix": "rm(",
     "library": "var_list.r",
     "varRefreshCmd": "cat(var_dic_list()) "
    }
   },
   "types_to_exclude": [
    "module",
    "function",
    "builtin_function_or_method",
    "instance",
    "_Feature"
   ],
   "window_display": false
  }
 },
 "nbformat": 4,
 "nbformat_minor": 0
}
